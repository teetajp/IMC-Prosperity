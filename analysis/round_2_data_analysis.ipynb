{
 "cells": [
  {
   "cell_type": "code",
   "execution_count": 1,
   "outputs": [
    {
     "data": {
      "text/plain": "(['../data/island-data-bottle-round-1/prices_round_1_day_-2.csv',\n  '../data/island-data-bottle-round-1/prices_round_1_day_-1.csv',\n  '../data/island-data-bottle-round-1/prices_round_1_day_0.csv'],\n ['../data/island-data-bottle-round-1/trades_round_1_day_-2_nn.csv',\n  '../data/island-data-bottle-round-1/trades_round_1_day_-1_nn.csv',\n  '../data/island-data-bottle-round-1/trades_round_1_day_0_nn.csv'],\n ['../data/island-data-bottle-round-2/prices_round_2_day_-1.csv',\n  '../data/island-data-bottle-round-2/prices_round_2_day_0.csv',\n  '../data/island-data-bottle-round-2/prices_round_2_day_1.csv'],\n ['../data/island-data-bottle-round-2/trades_round_2_day_-1_nn.csv',\n  '../data/island-data-bottle-round-2/trades_round_2_day_0_nn.csv',\n  '../data/island-data-bottle-round-2/trades_round_2_day_1_nn.csv'])"
     },
     "execution_count": 1,
     "metadata": {},
     "output_type": "execute_result"
    }
   ],
   "source": [
    "import numpy as np\n",
    "import pandas as pd\n",
    "import seaborn as sns\n",
    "import matplotlib.pyplot as plt\n",
    "from sklearn.linear_model import LinearRegression\n",
    "def prices_files(round: int, start: int, end: int):\n",
    "    return [f\"../data/island-data-bottle-round-{round}/prices_round_{round}_day_{i}.csv\" for i in range(start, end+1)]\n",
    "def trades_files(round: int, start: int, end: int):\n",
    "    return [f\"../data/island-data-bottle-round-{round}/trades_round_{round}_day_{i}_nn.csv\" for i in range(start, end+1)]\n",
    "\n",
    "rd_1_price_files, rd_1_trade_files = prices_files(1, -2, 0), trades_files(1, -2, 0)\n",
    "rd_2_price_files, rd_2_trade_files = prices_files(2, -1, 1), trades_files(2, -1, 1)\n",
    "\n",
    "rd_1_price_files,  rd_1_trade_files, rd_2_price_files, rd_2_trade_files"
   ],
   "metadata": {
    "collapsed": false
   }
  },
  {
   "cell_type": "code",
   "execution_count": 30,
   "outputs": [
    {
     "name": "stdout",
     "output_type": "stream",
     "text": [
      "['../data/island-data-bottle-round-1/prices_round_1_day_-2.csv', '../data/island-data-bottle-round-1/prices_round_1_day_-1.csv', '../data/island-data-bottle-round-1/prices_round_1_day_0.csv', '../data/island-data-bottle-round-2/prices_round_2_day_-1.csv', '../data/island-data-bottle-round-2/prices_round_2_day_0.csv', '../data/island-data-bottle-round-2/prices_round_2_day_1.csv']\n"
     ]
    }
   ],
   "source": [
    "# Import and clean data\n",
    "all_price_files = rd_1_price_files + rd_2_price_files\n",
    "all_trade_files = rd_1_trade_files + rd_2_trade_files\n",
    "print(all_price_files)\n",
    "rd_1_prices_df = pd.concat((pd.read_csv(filename, sep=\";\", usecols=lambda x: x not in [\"day\", \"profit_and_loss\"], index_col=[\"timestamp\"]) for filename in rd_1_price_files), axis=\"index\")\n",
    "rd_2_prices_df = pd.concat((pd.read_csv(filename, sep=\";\", usecols=lambda x: x not in [\"day\", \"profit_and_loss\"], index_col=[\"timestamp\"]) for filename in rd_2_price_files), axis=\"index\")\n",
    "# trades_df = pd.concat((pd.read_csv(filename, sep=\";\", usecols=lambda x : x not in [\"buyer\", \"seller\", \"currency\"]).assign(day=day-1) for day, filename in enumerate(trade_files))).set_index([\"day\", \"timestamp\", \"symbol\"])"
   ],
   "metadata": {
    "collapsed": false
   }
  },
  {
   "cell_type": "code",
   "execution_count": 31,
   "outputs": [
    {
     "data": {
      "text/plain": "           product  bid_price_1  bid_volume_1  bid_price_2  bid_volume_2  \\\ntimestamp                                                                  \n0          BANANAS         4997            26          NaN           NaN   \n0           PEARLS         9996             1       9995.0          25.0   \n100        BANANAS         4997            20          NaN           NaN   \n100         PEARLS        10000             5       9995.0          20.0   \n200         PEARLS         9996             1       9995.0          30.0   \n...            ...          ...           ...          ...           ...   \n999700     BANANAS         4875             1       4870.0           2.0   \n999800      PEARLS         9995            27          NaN           NaN   \n999800     BANANAS         4869            27          NaN           NaN   \n999900      PEARLS         9996             2       9995.0          21.0   \n999900     BANANAS         4870            23          NaN           NaN   \n\n           bid_price_3  bid_volume_3  ask_price_1  ask_volume_1  ask_price_2  \\\ntimestamp                                                                      \n0                  NaN           NaN         5003            26          NaN   \n0                  NaN           NaN        10004             1      10005.0   \n100                NaN           NaN         4998             1       5004.0   \n100                NaN           NaN        10005            20          NaN   \n200                NaN           NaN        10004             1      10005.0   \n...                ...           ...          ...           ...          ...   \n999700          4869.0          24.0         4876            26          NaN   \n999800             NaN           NaN        10005            27          NaN   \n999800             NaN           NaN         4876            27          NaN   \n999900             NaN           NaN        10004             2      10005.0   \n999900             NaN           NaN         4876             2       4877.0   \n\n           ask_volume_2  ask_price_3  ask_volume_3  mid_price  \ntimestamp                                                      \n0                   NaN          NaN           NaN     5000.0  \n0                  25.0          NaN           NaN    10000.0  \n100                20.0          NaN           NaN     4997.5  \n100                 NaN          NaN           NaN    10002.5  \n200                30.0          NaN           NaN    10000.0  \n...                 ...          ...           ...        ...  \n999700              NaN          NaN           NaN     4875.5  \n999800              NaN          NaN           NaN    10000.0  \n999800              NaN          NaN           NaN     4872.5  \n999900             21.0          NaN           NaN    10000.0  \n999900             21.0          NaN           NaN     4873.0  \n\n[60000 rows x 14 columns]",
      "text/html": "<div>\n<style scoped>\n    .dataframe tbody tr th:only-of-type {\n        vertical-align: middle;\n    }\n\n    .dataframe tbody tr th {\n        vertical-align: top;\n    }\n\n    .dataframe thead th {\n        text-align: right;\n    }\n</style>\n<table border=\"1\" class=\"dataframe\">\n  <thead>\n    <tr style=\"text-align: right;\">\n      <th></th>\n      <th>product</th>\n      <th>bid_price_1</th>\n      <th>bid_volume_1</th>\n      <th>bid_price_2</th>\n      <th>bid_volume_2</th>\n      <th>bid_price_3</th>\n      <th>bid_volume_3</th>\n      <th>ask_price_1</th>\n      <th>ask_volume_1</th>\n      <th>ask_price_2</th>\n      <th>ask_volume_2</th>\n      <th>ask_price_3</th>\n      <th>ask_volume_3</th>\n      <th>mid_price</th>\n    </tr>\n    <tr>\n      <th>timestamp</th>\n      <th></th>\n      <th></th>\n      <th></th>\n      <th></th>\n      <th></th>\n      <th></th>\n      <th></th>\n      <th></th>\n      <th></th>\n      <th></th>\n      <th></th>\n      <th></th>\n      <th></th>\n      <th></th>\n    </tr>\n  </thead>\n  <tbody>\n    <tr>\n      <th>0</th>\n      <td>BANANAS</td>\n      <td>4997</td>\n      <td>26</td>\n      <td>NaN</td>\n      <td>NaN</td>\n      <td>NaN</td>\n      <td>NaN</td>\n      <td>5003</td>\n      <td>26</td>\n      <td>NaN</td>\n      <td>NaN</td>\n      <td>NaN</td>\n      <td>NaN</td>\n      <td>5000.0</td>\n    </tr>\n    <tr>\n      <th>0</th>\n      <td>PEARLS</td>\n      <td>9996</td>\n      <td>1</td>\n      <td>9995.0</td>\n      <td>25.0</td>\n      <td>NaN</td>\n      <td>NaN</td>\n      <td>10004</td>\n      <td>1</td>\n      <td>10005.0</td>\n      <td>25.0</td>\n      <td>NaN</td>\n      <td>NaN</td>\n      <td>10000.0</td>\n    </tr>\n    <tr>\n      <th>100</th>\n      <td>BANANAS</td>\n      <td>4997</td>\n      <td>20</td>\n      <td>NaN</td>\n      <td>NaN</td>\n      <td>NaN</td>\n      <td>NaN</td>\n      <td>4998</td>\n      <td>1</td>\n      <td>5004.0</td>\n      <td>20.0</td>\n      <td>NaN</td>\n      <td>NaN</td>\n      <td>4997.5</td>\n    </tr>\n    <tr>\n      <th>100</th>\n      <td>PEARLS</td>\n      <td>10000</td>\n      <td>5</td>\n      <td>9995.0</td>\n      <td>20.0</td>\n      <td>NaN</td>\n      <td>NaN</td>\n      <td>10005</td>\n      <td>20</td>\n      <td>NaN</td>\n      <td>NaN</td>\n      <td>NaN</td>\n      <td>NaN</td>\n      <td>10002.5</td>\n    </tr>\n    <tr>\n      <th>200</th>\n      <td>PEARLS</td>\n      <td>9996</td>\n      <td>1</td>\n      <td>9995.0</td>\n      <td>30.0</td>\n      <td>NaN</td>\n      <td>NaN</td>\n      <td>10004</td>\n      <td>1</td>\n      <td>10005.0</td>\n      <td>30.0</td>\n      <td>NaN</td>\n      <td>NaN</td>\n      <td>10000.0</td>\n    </tr>\n    <tr>\n      <th>...</th>\n      <td>...</td>\n      <td>...</td>\n      <td>...</td>\n      <td>...</td>\n      <td>...</td>\n      <td>...</td>\n      <td>...</td>\n      <td>...</td>\n      <td>...</td>\n      <td>...</td>\n      <td>...</td>\n      <td>...</td>\n      <td>...</td>\n      <td>...</td>\n    </tr>\n    <tr>\n      <th>999700</th>\n      <td>BANANAS</td>\n      <td>4875</td>\n      <td>1</td>\n      <td>4870.0</td>\n      <td>2.0</td>\n      <td>4869.0</td>\n      <td>24.0</td>\n      <td>4876</td>\n      <td>26</td>\n      <td>NaN</td>\n      <td>NaN</td>\n      <td>NaN</td>\n      <td>NaN</td>\n      <td>4875.5</td>\n    </tr>\n    <tr>\n      <th>999800</th>\n      <td>PEARLS</td>\n      <td>9995</td>\n      <td>27</td>\n      <td>NaN</td>\n      <td>NaN</td>\n      <td>NaN</td>\n      <td>NaN</td>\n      <td>10005</td>\n      <td>27</td>\n      <td>NaN</td>\n      <td>NaN</td>\n      <td>NaN</td>\n      <td>NaN</td>\n      <td>10000.0</td>\n    </tr>\n    <tr>\n      <th>999800</th>\n      <td>BANANAS</td>\n      <td>4869</td>\n      <td>27</td>\n      <td>NaN</td>\n      <td>NaN</td>\n      <td>NaN</td>\n      <td>NaN</td>\n      <td>4876</td>\n      <td>27</td>\n      <td>NaN</td>\n      <td>NaN</td>\n      <td>NaN</td>\n      <td>NaN</td>\n      <td>4872.5</td>\n    </tr>\n    <tr>\n      <th>999900</th>\n      <td>PEARLS</td>\n      <td>9996</td>\n      <td>2</td>\n      <td>9995.0</td>\n      <td>21.0</td>\n      <td>NaN</td>\n      <td>NaN</td>\n      <td>10004</td>\n      <td>2</td>\n      <td>10005.0</td>\n      <td>21.0</td>\n      <td>NaN</td>\n      <td>NaN</td>\n      <td>10000.0</td>\n    </tr>\n    <tr>\n      <th>999900</th>\n      <td>BANANAS</td>\n      <td>4870</td>\n      <td>23</td>\n      <td>NaN</td>\n      <td>NaN</td>\n      <td>NaN</td>\n      <td>NaN</td>\n      <td>4876</td>\n      <td>2</td>\n      <td>4877.0</td>\n      <td>21.0</td>\n      <td>NaN</td>\n      <td>NaN</td>\n      <td>4873.0</td>\n    </tr>\n  </tbody>\n</table>\n<p>60000 rows × 14 columns</p>\n</div>"
     },
     "execution_count": 31,
     "metadata": {},
     "output_type": "execute_result"
    }
   ],
   "source": [
    "rd_1_prices_df"
   ],
   "metadata": {
    "collapsed": false
   }
  },
  {
   "cell_type": "code",
   "execution_count": 32,
   "outputs": [
    {
     "data": {
      "text/plain": "                product  bid_price_1  bid_volume_1  bid_price_2  bid_volume_2  \\\ntimestamp                                                                       \n0                PEARLS        10002             1       9996.0           2.0   \n0          PINA_COLADAS        14999            38      14998.0          53.0   \n0              COCONUTS         7999           162          NaN           NaN   \n0               BANANAS         4951             1       4946.0           2.0   \n100              PEARLS         9996             2       9995.0          22.0   \n...                 ...          ...           ...          ...           ...   \n999800           PEARLS         9996             2       9995.0          22.0   \n999900     PINA_COLADAS        14850            21      14849.0          62.0   \n999900          BANANAS         4820            20          NaN           NaN   \n999900           PEARLS         9995            20          NaN           NaN   \n999900         COCONUTS         7922           178          NaN           NaN   \n\n           bid_price_3  bid_volume_3  ask_price_1  ask_volume_1  ask_price_2  \\\ntimestamp                                                                      \n0               9995.0          29.0        10004             2      10005.0   \n0                  NaN           NaN        15001            38      15002.0   \n0                  NaN           NaN         8001            55       8002.0   \n0               4945.0          29.0         4952            31          NaN   \n100                NaN           NaN        10004             2      10005.0   \n...                ...           ...          ...           ...          ...   \n999800             NaN           NaN        10004             2      10005.0   \n999900             NaN           NaN        14853            83          NaN   \n999900             NaN           NaN         4827            20          NaN   \n999900             NaN           NaN        10005            20          NaN   \n999900             NaN           NaN         7925           178          NaN   \n\n           ask_volume_2  ask_price_3  ask_volume_3  mid_price  \ntimestamp                                                      \n0                  29.0          NaN           NaN    10003.0  \n0                  53.0          NaN           NaN    15000.0  \n0                 107.0          NaN           NaN     8000.0  \n0                   NaN          NaN           NaN     4951.5  \n100                22.0          NaN           NaN    10000.0  \n...                 ...          ...           ...        ...  \n999800             22.0          NaN           NaN    10000.0  \n999900              NaN          NaN           NaN    14851.5  \n999900              NaN          NaN           NaN     4823.5  \n999900              NaN          NaN           NaN    10000.0  \n999900              NaN          NaN           NaN     7923.5  \n\n[120000 rows x 14 columns]",
      "text/html": "<div>\n<style scoped>\n    .dataframe tbody tr th:only-of-type {\n        vertical-align: middle;\n    }\n\n    .dataframe tbody tr th {\n        vertical-align: top;\n    }\n\n    .dataframe thead th {\n        text-align: right;\n    }\n</style>\n<table border=\"1\" class=\"dataframe\">\n  <thead>\n    <tr style=\"text-align: right;\">\n      <th></th>\n      <th>product</th>\n      <th>bid_price_1</th>\n      <th>bid_volume_1</th>\n      <th>bid_price_2</th>\n      <th>bid_volume_2</th>\n      <th>bid_price_3</th>\n      <th>bid_volume_3</th>\n      <th>ask_price_1</th>\n      <th>ask_volume_1</th>\n      <th>ask_price_2</th>\n      <th>ask_volume_2</th>\n      <th>ask_price_3</th>\n      <th>ask_volume_3</th>\n      <th>mid_price</th>\n    </tr>\n    <tr>\n      <th>timestamp</th>\n      <th></th>\n      <th></th>\n      <th></th>\n      <th></th>\n      <th></th>\n      <th></th>\n      <th></th>\n      <th></th>\n      <th></th>\n      <th></th>\n      <th></th>\n      <th></th>\n      <th></th>\n      <th></th>\n    </tr>\n  </thead>\n  <tbody>\n    <tr>\n      <th>0</th>\n      <td>PEARLS</td>\n      <td>10002</td>\n      <td>1</td>\n      <td>9996.0</td>\n      <td>2.0</td>\n      <td>9995.0</td>\n      <td>29.0</td>\n      <td>10004</td>\n      <td>2</td>\n      <td>10005.0</td>\n      <td>29.0</td>\n      <td>NaN</td>\n      <td>NaN</td>\n      <td>10003.0</td>\n    </tr>\n    <tr>\n      <th>0</th>\n      <td>PINA_COLADAS</td>\n      <td>14999</td>\n      <td>38</td>\n      <td>14998.0</td>\n      <td>53.0</td>\n      <td>NaN</td>\n      <td>NaN</td>\n      <td>15001</td>\n      <td>38</td>\n      <td>15002.0</td>\n      <td>53.0</td>\n      <td>NaN</td>\n      <td>NaN</td>\n      <td>15000.0</td>\n    </tr>\n    <tr>\n      <th>0</th>\n      <td>COCONUTS</td>\n      <td>7999</td>\n      <td>162</td>\n      <td>NaN</td>\n      <td>NaN</td>\n      <td>NaN</td>\n      <td>NaN</td>\n      <td>8001</td>\n      <td>55</td>\n      <td>8002.0</td>\n      <td>107.0</td>\n      <td>NaN</td>\n      <td>NaN</td>\n      <td>8000.0</td>\n    </tr>\n    <tr>\n      <th>0</th>\n      <td>BANANAS</td>\n      <td>4951</td>\n      <td>1</td>\n      <td>4946.0</td>\n      <td>2.0</td>\n      <td>4945.0</td>\n      <td>29.0</td>\n      <td>4952</td>\n      <td>31</td>\n      <td>NaN</td>\n      <td>NaN</td>\n      <td>NaN</td>\n      <td>NaN</td>\n      <td>4951.5</td>\n    </tr>\n    <tr>\n      <th>100</th>\n      <td>PEARLS</td>\n      <td>9996</td>\n      <td>2</td>\n      <td>9995.0</td>\n      <td>22.0</td>\n      <td>NaN</td>\n      <td>NaN</td>\n      <td>10004</td>\n      <td>2</td>\n      <td>10005.0</td>\n      <td>22.0</td>\n      <td>NaN</td>\n      <td>NaN</td>\n      <td>10000.0</td>\n    </tr>\n    <tr>\n      <th>...</th>\n      <td>...</td>\n      <td>...</td>\n      <td>...</td>\n      <td>...</td>\n      <td>...</td>\n      <td>...</td>\n      <td>...</td>\n      <td>...</td>\n      <td>...</td>\n      <td>...</td>\n      <td>...</td>\n      <td>...</td>\n      <td>...</td>\n      <td>...</td>\n    </tr>\n    <tr>\n      <th>999800</th>\n      <td>PEARLS</td>\n      <td>9996</td>\n      <td>2</td>\n      <td>9995.0</td>\n      <td>22.0</td>\n      <td>NaN</td>\n      <td>NaN</td>\n      <td>10004</td>\n      <td>2</td>\n      <td>10005.0</td>\n      <td>22.0</td>\n      <td>NaN</td>\n      <td>NaN</td>\n      <td>10000.0</td>\n    </tr>\n    <tr>\n      <th>999900</th>\n      <td>PINA_COLADAS</td>\n      <td>14850</td>\n      <td>21</td>\n      <td>14849.0</td>\n      <td>62.0</td>\n      <td>NaN</td>\n      <td>NaN</td>\n      <td>14853</td>\n      <td>83</td>\n      <td>NaN</td>\n      <td>NaN</td>\n      <td>NaN</td>\n      <td>NaN</td>\n      <td>14851.5</td>\n    </tr>\n    <tr>\n      <th>999900</th>\n      <td>BANANAS</td>\n      <td>4820</td>\n      <td>20</td>\n      <td>NaN</td>\n      <td>NaN</td>\n      <td>NaN</td>\n      <td>NaN</td>\n      <td>4827</td>\n      <td>20</td>\n      <td>NaN</td>\n      <td>NaN</td>\n      <td>NaN</td>\n      <td>NaN</td>\n      <td>4823.5</td>\n    </tr>\n    <tr>\n      <th>999900</th>\n      <td>PEARLS</td>\n      <td>9995</td>\n      <td>20</td>\n      <td>NaN</td>\n      <td>NaN</td>\n      <td>NaN</td>\n      <td>NaN</td>\n      <td>10005</td>\n      <td>20</td>\n      <td>NaN</td>\n      <td>NaN</td>\n      <td>NaN</td>\n      <td>NaN</td>\n      <td>10000.0</td>\n    </tr>\n    <tr>\n      <th>999900</th>\n      <td>COCONUTS</td>\n      <td>7922</td>\n      <td>178</td>\n      <td>NaN</td>\n      <td>NaN</td>\n      <td>NaN</td>\n      <td>NaN</td>\n      <td>7925</td>\n      <td>178</td>\n      <td>NaN</td>\n      <td>NaN</td>\n      <td>NaN</td>\n      <td>NaN</td>\n      <td>7923.5</td>\n    </tr>\n  </tbody>\n</table>\n<p>120000 rows × 14 columns</p>\n</div>"
     },
     "execution_count": 32,
     "metadata": {},
     "output_type": "execute_result"
    }
   ],
   "source": [
    "rd_2_prices_df"
   ],
   "metadata": {
    "collapsed": false
   }
  },
  {
   "cell_type": "code",
   "execution_count": 35,
   "outputs": [
    {
     "data": {
      "text/plain": "                product  bid_price_1  bid_volume_1  bid_price_2  bid_volume_2  \\\ntimestamp                                                                       \n0               BANANAS         4997            26          NaN           NaN   \n0                PEARLS         9996             1       9995.0          25.0   \n100             BANANAS         4997            20          NaN           NaN   \n100              PEARLS        10000             5       9995.0          20.0   \n200              PEARLS         9996             1       9995.0          30.0   \n...                 ...          ...           ...          ...           ...   \n999800           PEARLS         9996             2       9995.0          22.0   \n999900     PINA_COLADAS        14850            21      14849.0          62.0   \n999900          BANANAS         4820            20          NaN           NaN   \n999900           PEARLS         9995            20          NaN           NaN   \n999900         COCONUTS         7922           178          NaN           NaN   \n\n           bid_price_3  bid_volume_3  ask_price_1  ask_volume_1  ask_price_2  \\\ntimestamp                                                                      \n0                  NaN           NaN         5003            26          NaN   \n0                  NaN           NaN        10004             1      10005.0   \n100                NaN           NaN         4998             1       5004.0   \n100                NaN           NaN        10005            20          NaN   \n200                NaN           NaN        10004             1      10005.0   \n...                ...           ...          ...           ...          ...   \n999800             NaN           NaN        10004             2      10005.0   \n999900             NaN           NaN        14853            83          NaN   \n999900             NaN           NaN         4827            20          NaN   \n999900             NaN           NaN        10005            20          NaN   \n999900             NaN           NaN         7925           178          NaN   \n\n           ask_volume_2  ask_price_3  ask_volume_3  mid_price  \ntimestamp                                                      \n0                   NaN          NaN           NaN     5000.0  \n0                  25.0          NaN           NaN    10000.0  \n100                20.0          NaN           NaN     4997.5  \n100                 NaN          NaN           NaN    10002.5  \n200                30.0          NaN           NaN    10000.0  \n...                 ...          ...           ...        ...  \n999800             22.0          NaN           NaN    10000.0  \n999900              NaN          NaN           NaN    14851.5  \n999900              NaN          NaN           NaN     4823.5  \n999900              NaN          NaN           NaN    10000.0  \n999900              NaN          NaN           NaN     7923.5  \n\n[180000 rows x 14 columns]",
      "text/html": "<div>\n<style scoped>\n    .dataframe tbody tr th:only-of-type {\n        vertical-align: middle;\n    }\n\n    .dataframe tbody tr th {\n        vertical-align: top;\n    }\n\n    .dataframe thead th {\n        text-align: right;\n    }\n</style>\n<table border=\"1\" class=\"dataframe\">\n  <thead>\n    <tr style=\"text-align: right;\">\n      <th></th>\n      <th>product</th>\n      <th>bid_price_1</th>\n      <th>bid_volume_1</th>\n      <th>bid_price_2</th>\n      <th>bid_volume_2</th>\n      <th>bid_price_3</th>\n      <th>bid_volume_3</th>\n      <th>ask_price_1</th>\n      <th>ask_volume_1</th>\n      <th>ask_price_2</th>\n      <th>ask_volume_2</th>\n      <th>ask_price_3</th>\n      <th>ask_volume_3</th>\n      <th>mid_price</th>\n    </tr>\n    <tr>\n      <th>timestamp</th>\n      <th></th>\n      <th></th>\n      <th></th>\n      <th></th>\n      <th></th>\n      <th></th>\n      <th></th>\n      <th></th>\n      <th></th>\n      <th></th>\n      <th></th>\n      <th></th>\n      <th></th>\n      <th></th>\n    </tr>\n  </thead>\n  <tbody>\n    <tr>\n      <th>0</th>\n      <td>BANANAS</td>\n      <td>4997</td>\n      <td>26</td>\n      <td>NaN</td>\n      <td>NaN</td>\n      <td>NaN</td>\n      <td>NaN</td>\n      <td>5003</td>\n      <td>26</td>\n      <td>NaN</td>\n      <td>NaN</td>\n      <td>NaN</td>\n      <td>NaN</td>\n      <td>5000.0</td>\n    </tr>\n    <tr>\n      <th>0</th>\n      <td>PEARLS</td>\n      <td>9996</td>\n      <td>1</td>\n      <td>9995.0</td>\n      <td>25.0</td>\n      <td>NaN</td>\n      <td>NaN</td>\n      <td>10004</td>\n      <td>1</td>\n      <td>10005.0</td>\n      <td>25.0</td>\n      <td>NaN</td>\n      <td>NaN</td>\n      <td>10000.0</td>\n    </tr>\n    <tr>\n      <th>100</th>\n      <td>BANANAS</td>\n      <td>4997</td>\n      <td>20</td>\n      <td>NaN</td>\n      <td>NaN</td>\n      <td>NaN</td>\n      <td>NaN</td>\n      <td>4998</td>\n      <td>1</td>\n      <td>5004.0</td>\n      <td>20.0</td>\n      <td>NaN</td>\n      <td>NaN</td>\n      <td>4997.5</td>\n    </tr>\n    <tr>\n      <th>100</th>\n      <td>PEARLS</td>\n      <td>10000</td>\n      <td>5</td>\n      <td>9995.0</td>\n      <td>20.0</td>\n      <td>NaN</td>\n      <td>NaN</td>\n      <td>10005</td>\n      <td>20</td>\n      <td>NaN</td>\n      <td>NaN</td>\n      <td>NaN</td>\n      <td>NaN</td>\n      <td>10002.5</td>\n    </tr>\n    <tr>\n      <th>200</th>\n      <td>PEARLS</td>\n      <td>9996</td>\n      <td>1</td>\n      <td>9995.0</td>\n      <td>30.0</td>\n      <td>NaN</td>\n      <td>NaN</td>\n      <td>10004</td>\n      <td>1</td>\n      <td>10005.0</td>\n      <td>30.0</td>\n      <td>NaN</td>\n      <td>NaN</td>\n      <td>10000.0</td>\n    </tr>\n    <tr>\n      <th>...</th>\n      <td>...</td>\n      <td>...</td>\n      <td>...</td>\n      <td>...</td>\n      <td>...</td>\n      <td>...</td>\n      <td>...</td>\n      <td>...</td>\n      <td>...</td>\n      <td>...</td>\n      <td>...</td>\n      <td>...</td>\n      <td>...</td>\n      <td>...</td>\n    </tr>\n    <tr>\n      <th>999800</th>\n      <td>PEARLS</td>\n      <td>9996</td>\n      <td>2</td>\n      <td>9995.0</td>\n      <td>22.0</td>\n      <td>NaN</td>\n      <td>NaN</td>\n      <td>10004</td>\n      <td>2</td>\n      <td>10005.0</td>\n      <td>22.0</td>\n      <td>NaN</td>\n      <td>NaN</td>\n      <td>10000.0</td>\n    </tr>\n    <tr>\n      <th>999900</th>\n      <td>PINA_COLADAS</td>\n      <td>14850</td>\n      <td>21</td>\n      <td>14849.0</td>\n      <td>62.0</td>\n      <td>NaN</td>\n      <td>NaN</td>\n      <td>14853</td>\n      <td>83</td>\n      <td>NaN</td>\n      <td>NaN</td>\n      <td>NaN</td>\n      <td>NaN</td>\n      <td>14851.5</td>\n    </tr>\n    <tr>\n      <th>999900</th>\n      <td>BANANAS</td>\n      <td>4820</td>\n      <td>20</td>\n      <td>NaN</td>\n      <td>NaN</td>\n      <td>NaN</td>\n      <td>NaN</td>\n      <td>4827</td>\n      <td>20</td>\n      <td>NaN</td>\n      <td>NaN</td>\n      <td>NaN</td>\n      <td>NaN</td>\n      <td>4823.5</td>\n    </tr>\n    <tr>\n      <th>999900</th>\n      <td>PEARLS</td>\n      <td>9995</td>\n      <td>20</td>\n      <td>NaN</td>\n      <td>NaN</td>\n      <td>NaN</td>\n      <td>NaN</td>\n      <td>10005</td>\n      <td>20</td>\n      <td>NaN</td>\n      <td>NaN</td>\n      <td>NaN</td>\n      <td>NaN</td>\n      <td>10000.0</td>\n    </tr>\n    <tr>\n      <th>999900</th>\n      <td>COCONUTS</td>\n      <td>7922</td>\n      <td>178</td>\n      <td>NaN</td>\n      <td>NaN</td>\n      <td>NaN</td>\n      <td>NaN</td>\n      <td>7925</td>\n      <td>178</td>\n      <td>NaN</td>\n      <td>NaN</td>\n      <td>NaN</td>\n      <td>NaN</td>\n      <td>7923.5</td>\n    </tr>\n  </tbody>\n</table>\n<p>180000 rows × 14 columns</p>\n</div>"
     },
     "execution_count": 35,
     "metadata": {},
     "output_type": "execute_result"
    }
   ],
   "source": [
    "all_prices_df = pd.concat([rd_1_prices_df, rd_2_prices_df], axis=\"index\")\n",
    "all_prices_df"
   ],
   "metadata": {
    "collapsed": false
   }
  },
  {
   "cell_type": "code",
   "execution_count": null,
   "outputs": [],
   "source": [],
   "metadata": {
    "collapsed": false
   }
  },
  {
   "cell_type": "code",
   "execution_count": null,
   "outputs": [],
   "source": [],
   "metadata": {
    "collapsed": false
   }
  }
 ],
 "metadata": {
  "kernelspec": {
   "display_name": "Python 3",
   "language": "python",
   "name": "python3"
  },
  "language_info": {
   "codemirror_mode": {
    "name": "ipython",
    "version": 2
   },
   "file_extension": ".py",
   "mimetype": "text/x-python",
   "name": "python",
   "nbconvert_exporter": "python",
   "pygments_lexer": "ipython2",
   "version": "2.7.6"
  }
 },
 "nbformat": 4,
 "nbformat_minor": 0
}
