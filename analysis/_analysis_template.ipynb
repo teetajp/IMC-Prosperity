{
 "cells": [
  {
   "cell_type": "code",
   "execution_count": null,
   "outputs": [],
   "source": [
    "import numpy as np\n",
    "import pandas as pd\n",
    "import seaborn as sns\n",
    "import matplotlib.pyplot as plt\n",
    "from sklearn.linear_model import LinearRegression"
   ],
   "metadata": {
    "collapsed": false
   }
  },
  {
   "cell_type": "code",
   "execution_count": null,
   "outputs": [],
   "source": [
    "def prices_files(round: int, start: int, end: int):\n",
    "    return [f\"../data/island-data-bottle-round-{round}/prices_round_{round}_day_{i}.csv\" for i in range(start, end+1)]\n",
    "def trades_files(round: int, start: int, end: int):\n",
    "    return [f\"../data/island-data-bottle-round-{round}/trades_round_{round}_day_{i}_nn.csv\" for i in range(start, end+1)]\n",
    "\n",
    "rd_1_price_files, rd_1_trade_files = prices_files(1, -2, 0), trades_files(1, -2, 0)\n",
    "rd_2_price_files, rd_2_trade_files = prices_files(2, -1, 1), trades_files(2, -1, 1)\n",
    "\n",
    "all_price_files = rd_1_price_files + rd_2_price_files\n",
    "all_trade_files = rd_1_trade_files + rd_2_trade_files"
   ],
   "metadata": {
    "collapsed": false
   }
  },
  {
   "cell_type": "code",
   "execution_count": 1,
   "outputs": [],
   "source": [
    "def get_prices_df(product):\n",
    "    prices_df = pd.concat((pd.read_csv(filename, sep=\";\", usecols=lambda x: x not in [\"day\", \"profit_and_loss\"], index_col=[\"timestamp\"]) for filename in all_price_files), axis=\"index\").query(f\"product == '{product}'\").reset_index(drop=True)\n",
    "    prices_df.insert(0, \"timestamp\", prices_df.index * 100)\n",
    "    prices_df.set_index(\"timestamp\", inplace=True)\n",
    "    return prices_df\n",
    "\n",
    "def get_trades_df(symbol):\n",
    "    trades_df = pd.concat((pd.read_csv(filename, sep=\";\", usecols=lambda x : x not in [\"buyer\", \"seller\", \"currency\"], index_col=[\"timestamp\"]) for filename in all_trade_files)).query(f\"symbol == '{symbol}'\").reset_index(drop=True)\n",
    "    trades_df.insert(0, \"timestamp\", trades_df.index)\n",
    "    trades_df.set_index(\"timestamp\", inplace=True)\n",
    "    return trades_df"
   ],
   "metadata": {
    "collapsed": false
   }
  },
  {
   "cell_type": "code",
   "execution_count": null,
   "outputs": [],
   "source": [],
   "metadata": {
    "collapsed": false
   }
  }
 ],
 "metadata": {
  "kernelspec": {
   "display_name": "Python 3",
   "language": "python",
   "name": "python3"
  },
  "language_info": {
   "codemirror_mode": {
    "name": "ipython",
    "version": 2
   },
   "file_extension": ".py",
   "mimetype": "text/x-python",
   "name": "python",
   "nbconvert_exporter": "python",
   "pygments_lexer": "ipython2",
   "version": "2.7.6"
  }
 },
 "nbformat": 4,
 "nbformat_minor": 0
}
