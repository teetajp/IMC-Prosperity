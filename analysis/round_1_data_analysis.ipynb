{
 "cells": [
  {
   "cell_type": "code",
   "execution_count": 9,
   "metadata": {
    "collapsed": true
   },
   "outputs": [],
   "source": [
    "import numpy as np\n",
    "import pandas as pd\n",
    "import seaborn as sns\n",
    "import matplotlib.pyplot as plt\n",
    "from sklearn.linear_model import LinearRegression"
   ]
  },
  {
   "cell_type": "code",
   "execution_count": 10,
   "outputs": [
    {
     "data": {
      "text/plain": "(['../data/island-data-bottle-round-1/prices_round_1_day_-2.csv',\n  '../data/island-data-bottle-round-1/prices_round_1_day_-1.csv',\n  '../data/island-data-bottle-round-1/prices_round_1_day_0.csv'],\n ['../data/island-data-bottle-round-1/trades_round_1_day_-2_nn.csv',\n  '../data/island-data-bottle-round-1/trades_round_1_day_-1_nn.csv',\n  '../data/island-data-bottle-round-1/trades_round_1_day_0_nn.csv'])"
     },
     "execution_count": 10,
     "metadata": {},
     "output_type": "execute_result"
    }
   ],
   "source": [
    "prices_path = \"../data/island-data-bottle-round-1/prices_round_1_day_\"\n",
    "trades_path = \"../data/island-data-bottle-round-1/trades_round_1_day_\"\n",
    "\n",
    "price_files = [prices_path + str(i) + \".csv\" for i in range(-2, 1, 1)]\n",
    "trade_files = [trades_path + str(i) + \"_nn.csv\" for i in range(-2, 1, 1)]\n",
    "\n",
    "price_files,  trade_files"
   ],
   "metadata": {
    "collapsed": false
   }
  },
  {
   "cell_type": "code",
   "execution_count": 11,
   "outputs": [],
   "source": [
    "# Import and clean data\n",
    "prices_df = pd.concat((pd.read_csv(filename, sep=\";\", index_col=[\"day\", \"timestamp\", \"product\"]) for filename in price_files)).drop([\"profit_and_loss\"], axis=\"columns\")\n",
    "trades_df = pd.concat((pd.read_csv(filename, sep=\";\", usecols=lambda x : x not in [\"buyer\", \"seller\", \"currency\"]).assign(day=day-2) for day, filename in enumerate(trade_files))).set_index([\"day\", \"timestamp\", \"symbol\"])"
   ],
   "metadata": {
    "collapsed": false
   }
  },
  {
   "cell_type": "code",
   "execution_count": 12,
   "outputs": [
    {
     "name": "stdout",
     "output_type": "stream",
     "text": [
      "<class 'pandas.core.frame.DataFrame'>\n",
      "MultiIndex: 60000 entries, (-2, 0, 'BANANAS') to (0, 999900, 'BANANAS')\n",
      "Data columns (total 13 columns):\n",
      " #   Column        Non-Null Count  Dtype  \n",
      "---  ------        --------------  -----  \n",
      " 0   bid_price_1   60000 non-null  int64  \n",
      " 1   bid_volume_1  60000 non-null  int64  \n",
      " 2   bid_price_2   33401 non-null  float64\n",
      " 3   bid_volume_2  33401 non-null  float64\n",
      " 4   bid_price_3   6304 non-null   float64\n",
      " 5   bid_volume_3  6304 non-null   float64\n",
      " 6   ask_price_1   60000 non-null  int64  \n",
      " 7   ask_volume_1  60000 non-null  int64  \n",
      " 8   ask_price_2   32930 non-null  float64\n",
      " 9   ask_volume_2  32930 non-null  float64\n",
      " 10  ask_price_3   6619 non-null   float64\n",
      " 11  ask_volume_3  6619 non-null   float64\n",
      " 12  mid_price     60000 non-null  float64\n",
      "dtypes: float64(9), int64(4)\n",
      "memory usage: 6.5+ MB\n"
     ]
    }
   ],
   "source": [
    "prices_df.info()"
   ],
   "metadata": {
    "collapsed": false
   }
  },
  {
   "cell_type": "code",
   "execution_count": 13,
   "outputs": [
    {
     "data": {
      "text/plain": "                       bid_price_1  bid_volume_1  bid_price_2  bid_volume_2  \\\nday timestamp product                                                         \n 0  325000    PEARLS          9996             2       9995.0          21.0   \n    156800    BANANAS         4900             1       4899.0          25.0   \n    313400    PEARLS         10002             2       9996.0           1.0   \n-1  173000    BANANAS         4927            31          NaN           NaN   \n    185200    PEARLS         10002             1       9995.0          26.0   \n    491600    BANANAS         4911            27          NaN           NaN   \n-2  944500    PEARLS          9996             1       9995.0          30.0   \n-1  675800    BANANAS         4912            27          NaN           NaN   \n    372100    BANANAS         4933            32          NaN           NaN   \n 0  292000    BANANAS         4890            26          NaN           NaN   \n\n                       bid_price_3  bid_volume_3  ask_price_1  ask_volume_1  \\\nday timestamp product                                                         \n 0  325000    PEARLS           NaN           NaN        10004             2   \n    156800    BANANAS          NaN           NaN         4906            25   \n    313400    PEARLS        9995.0          27.0        10004             1   \n-1  173000    BANANAS          NaN           NaN         4934            31   \n    185200    PEARLS           NaN           NaN        10005            26   \n    491600    BANANAS          NaN           NaN         4918            28   \n-2  944500    PEARLS           NaN           NaN        10002             4   \n-1  675800    BANANAS          NaN           NaN         4914             4   \n    372100    BANANAS          NaN           NaN         4939            32   \n 0  292000    BANANAS          NaN           NaN         4896             1   \n\n                       ask_price_2  ask_volume_2  ask_price_3  ask_volume_3  \\\nday timestamp product                                                         \n 0  325000    PEARLS       10005.0          21.0          NaN           NaN   \n    156800    BANANAS          NaN           NaN          NaN           NaN   \n    313400    PEARLS       10005.0          27.0          NaN           NaN   \n-1  173000    BANANAS          NaN           NaN          NaN           NaN   \n    185200    PEARLS           NaN           NaN          NaN           NaN   \n    491600    BANANAS          NaN           NaN          NaN           NaN   \n-2  944500    PEARLS       10004.0           1.0      10005.0          30.0   \n-1  675800    BANANAS       4919.0          27.0          NaN           NaN   \n    372100    BANANAS          NaN           NaN          NaN           NaN   \n 0  292000    BANANAS       4897.0          25.0          NaN           NaN   \n\n                       mid_price  \nday timestamp product             \n 0  325000    PEARLS     10000.0  \n    156800    BANANAS     4903.0  \n    313400    PEARLS     10003.0  \n-1  173000    BANANAS     4930.5  \n    185200    PEARLS     10003.5  \n    491600    BANANAS     4914.5  \n-2  944500    PEARLS      9999.0  \n-1  675800    BANANAS     4913.0  \n    372100    BANANAS     4936.0  \n 0  292000    BANANAS     4893.0  ",
      "text/html": "<div>\n<style scoped>\n    .dataframe tbody tr th:only-of-type {\n        vertical-align: middle;\n    }\n\n    .dataframe tbody tr th {\n        vertical-align: top;\n    }\n\n    .dataframe thead th {\n        text-align: right;\n    }\n</style>\n<table border=\"1\" class=\"dataframe\">\n  <thead>\n    <tr style=\"text-align: right;\">\n      <th></th>\n      <th></th>\n      <th></th>\n      <th>bid_price_1</th>\n      <th>bid_volume_1</th>\n      <th>bid_price_2</th>\n      <th>bid_volume_2</th>\n      <th>bid_price_3</th>\n      <th>bid_volume_3</th>\n      <th>ask_price_1</th>\n      <th>ask_volume_1</th>\n      <th>ask_price_2</th>\n      <th>ask_volume_2</th>\n      <th>ask_price_3</th>\n      <th>ask_volume_3</th>\n      <th>mid_price</th>\n    </tr>\n    <tr>\n      <th>day</th>\n      <th>timestamp</th>\n      <th>product</th>\n      <th></th>\n      <th></th>\n      <th></th>\n      <th></th>\n      <th></th>\n      <th></th>\n      <th></th>\n      <th></th>\n      <th></th>\n      <th></th>\n      <th></th>\n      <th></th>\n      <th></th>\n    </tr>\n  </thead>\n  <tbody>\n    <tr>\n      <th rowspan=\"3\" valign=\"top\">0</th>\n      <th>325000</th>\n      <th>PEARLS</th>\n      <td>9996</td>\n      <td>2</td>\n      <td>9995.0</td>\n      <td>21.0</td>\n      <td>NaN</td>\n      <td>NaN</td>\n      <td>10004</td>\n      <td>2</td>\n      <td>10005.0</td>\n      <td>21.0</td>\n      <td>NaN</td>\n      <td>NaN</td>\n      <td>10000.0</td>\n    </tr>\n    <tr>\n      <th>156800</th>\n      <th>BANANAS</th>\n      <td>4900</td>\n      <td>1</td>\n      <td>4899.0</td>\n      <td>25.0</td>\n      <td>NaN</td>\n      <td>NaN</td>\n      <td>4906</td>\n      <td>25</td>\n      <td>NaN</td>\n      <td>NaN</td>\n      <td>NaN</td>\n      <td>NaN</td>\n      <td>4903.0</td>\n    </tr>\n    <tr>\n      <th>313400</th>\n      <th>PEARLS</th>\n      <td>10002</td>\n      <td>2</td>\n      <td>9996.0</td>\n      <td>1.0</td>\n      <td>9995.0</td>\n      <td>27.0</td>\n      <td>10004</td>\n      <td>1</td>\n      <td>10005.0</td>\n      <td>27.0</td>\n      <td>NaN</td>\n      <td>NaN</td>\n      <td>10003.0</td>\n    </tr>\n    <tr>\n      <th rowspan=\"3\" valign=\"top\">-1</th>\n      <th>173000</th>\n      <th>BANANAS</th>\n      <td>4927</td>\n      <td>31</td>\n      <td>NaN</td>\n      <td>NaN</td>\n      <td>NaN</td>\n      <td>NaN</td>\n      <td>4934</td>\n      <td>31</td>\n      <td>NaN</td>\n      <td>NaN</td>\n      <td>NaN</td>\n      <td>NaN</td>\n      <td>4930.5</td>\n    </tr>\n    <tr>\n      <th>185200</th>\n      <th>PEARLS</th>\n      <td>10002</td>\n      <td>1</td>\n      <td>9995.0</td>\n      <td>26.0</td>\n      <td>NaN</td>\n      <td>NaN</td>\n      <td>10005</td>\n      <td>26</td>\n      <td>NaN</td>\n      <td>NaN</td>\n      <td>NaN</td>\n      <td>NaN</td>\n      <td>10003.5</td>\n    </tr>\n    <tr>\n      <th>491600</th>\n      <th>BANANAS</th>\n      <td>4911</td>\n      <td>27</td>\n      <td>NaN</td>\n      <td>NaN</td>\n      <td>NaN</td>\n      <td>NaN</td>\n      <td>4918</td>\n      <td>28</td>\n      <td>NaN</td>\n      <td>NaN</td>\n      <td>NaN</td>\n      <td>NaN</td>\n      <td>4914.5</td>\n    </tr>\n    <tr>\n      <th>-2</th>\n      <th>944500</th>\n      <th>PEARLS</th>\n      <td>9996</td>\n      <td>1</td>\n      <td>9995.0</td>\n      <td>30.0</td>\n      <td>NaN</td>\n      <td>NaN</td>\n      <td>10002</td>\n      <td>4</td>\n      <td>10004.0</td>\n      <td>1.0</td>\n      <td>10005.0</td>\n      <td>30.0</td>\n      <td>9999.0</td>\n    </tr>\n    <tr>\n      <th rowspan=\"2\" valign=\"top\">-1</th>\n      <th>675800</th>\n      <th>BANANAS</th>\n      <td>4912</td>\n      <td>27</td>\n      <td>NaN</td>\n      <td>NaN</td>\n      <td>NaN</td>\n      <td>NaN</td>\n      <td>4914</td>\n      <td>4</td>\n      <td>4919.0</td>\n      <td>27.0</td>\n      <td>NaN</td>\n      <td>NaN</td>\n      <td>4913.0</td>\n    </tr>\n    <tr>\n      <th>372100</th>\n      <th>BANANAS</th>\n      <td>4933</td>\n      <td>32</td>\n      <td>NaN</td>\n      <td>NaN</td>\n      <td>NaN</td>\n      <td>NaN</td>\n      <td>4939</td>\n      <td>32</td>\n      <td>NaN</td>\n      <td>NaN</td>\n      <td>NaN</td>\n      <td>NaN</td>\n      <td>4936.0</td>\n    </tr>\n    <tr>\n      <th>0</th>\n      <th>292000</th>\n      <th>BANANAS</th>\n      <td>4890</td>\n      <td>26</td>\n      <td>NaN</td>\n      <td>NaN</td>\n      <td>NaN</td>\n      <td>NaN</td>\n      <td>4896</td>\n      <td>1</td>\n      <td>4897.0</td>\n      <td>25.0</td>\n      <td>NaN</td>\n      <td>NaN</td>\n      <td>4893.0</td>\n    </tr>\n  </tbody>\n</table>\n</div>"
     },
     "execution_count": 13,
     "metadata": {},
     "output_type": "execute_result"
    }
   ],
   "source": [
    "prices_df.sample(10)"
   ],
   "metadata": {
    "collapsed": false
   }
  },
  {
   "cell_type": "code",
   "execution_count": 14,
   "outputs": [
    {
     "data": {
      "text/plain": "          mid_price\ncount  60000.000000\nmean    7464.937350\nstd     2535.227736\nmin     4869.500000\n25%     4919.500000\n50%     7501.500000\n75%    10000.000000\nmax    10003.500000",
      "text/html": "<div>\n<style scoped>\n    .dataframe tbody tr th:only-of-type {\n        vertical-align: middle;\n    }\n\n    .dataframe tbody tr th {\n        vertical-align: top;\n    }\n\n    .dataframe thead th {\n        text-align: right;\n    }\n</style>\n<table border=\"1\" class=\"dataframe\">\n  <thead>\n    <tr style=\"text-align: right;\">\n      <th></th>\n      <th>mid_price</th>\n    </tr>\n  </thead>\n  <tbody>\n    <tr>\n      <th>count</th>\n      <td>60000.000000</td>\n    </tr>\n    <tr>\n      <th>mean</th>\n      <td>7464.937350</td>\n    </tr>\n    <tr>\n      <th>std</th>\n      <td>2535.227736</td>\n    </tr>\n    <tr>\n      <th>min</th>\n      <td>4869.500000</td>\n    </tr>\n    <tr>\n      <th>25%</th>\n      <td>4919.500000</td>\n    </tr>\n    <tr>\n      <th>50%</th>\n      <td>7501.500000</td>\n    </tr>\n    <tr>\n      <th>75%</th>\n      <td>10000.000000</td>\n    </tr>\n    <tr>\n      <th>max</th>\n      <td>10003.500000</td>\n    </tr>\n  </tbody>\n</table>\n</div>"
     },
     "execution_count": 14,
     "metadata": {},
     "output_type": "execute_result"
    }
   ],
   "source": [
    "prices_agg_df = prices_df[[\"mid_price\"]]\n",
    "prices_agg_df.describe()"
   ],
   "metadata": {
    "collapsed": false
   }
  },
  {
   "cell_type": "code",
   "execution_count": 15,
   "outputs": [
    {
     "data": {
      "text/plain": "        mid_price                                                            \\\n            count        mean        std     min      25%      50%      75%   \nproduct                                                                       \nBANANAS   30000.0  4929.87815  38.634426  4869.5   4894.0   4919.5   4969.5   \nPEARLS    30000.0  9999.99655   1.496592  9996.5  10000.0  10000.0  10000.0   \n\n                  \n             max  \nproduct           \nBANANAS   5006.5  \nPEARLS   10003.5  ",
      "text/html": "<div>\n<style scoped>\n    .dataframe tbody tr th:only-of-type {\n        vertical-align: middle;\n    }\n\n    .dataframe tbody tr th {\n        vertical-align: top;\n    }\n\n    .dataframe thead tr th {\n        text-align: left;\n    }\n\n    .dataframe thead tr:last-of-type th {\n        text-align: right;\n    }\n</style>\n<table border=\"1\" class=\"dataframe\">\n  <thead>\n    <tr>\n      <th></th>\n      <th colspan=\"8\" halign=\"left\">mid_price</th>\n    </tr>\n    <tr>\n      <th></th>\n      <th>count</th>\n      <th>mean</th>\n      <th>std</th>\n      <th>min</th>\n      <th>25%</th>\n      <th>50%</th>\n      <th>75%</th>\n      <th>max</th>\n    </tr>\n    <tr>\n      <th>product</th>\n      <th></th>\n      <th></th>\n      <th></th>\n      <th></th>\n      <th></th>\n      <th></th>\n      <th></th>\n      <th></th>\n    </tr>\n  </thead>\n  <tbody>\n    <tr>\n      <th>BANANAS</th>\n      <td>30000.0</td>\n      <td>4929.87815</td>\n      <td>38.634426</td>\n      <td>4869.5</td>\n      <td>4894.0</td>\n      <td>4919.5</td>\n      <td>4969.5</td>\n      <td>5006.5</td>\n    </tr>\n    <tr>\n      <th>PEARLS</th>\n      <td>30000.0</td>\n      <td>9999.99655</td>\n      <td>1.496592</td>\n      <td>9996.5</td>\n      <td>10000.0</td>\n      <td>10000.0</td>\n      <td>10000.0</td>\n      <td>10003.5</td>\n    </tr>\n  </tbody>\n</table>\n</div>"
     },
     "execution_count": 15,
     "metadata": {},
     "output_type": "execute_result"
    }
   ],
   "source": [
    "prices_agg_df.groupby(\"product\").describe()"
   ],
   "metadata": {
    "collapsed": false
   }
  },
  {
   "cell_type": "code",
   "execution_count": 16,
   "outputs": [],
   "source": [
    "prices_agg_df = prices_agg_df.groupby([\"product\", \"day\"])"
   ],
   "metadata": {
    "collapsed": false
   }
  },
  {
   "cell_type": "code",
   "execution_count": 17,
   "outputs": [
    {
     "data": {
      "text/plain": "            mid_price                                                    \\\n                count         mean        std     min      25%      50%   \nproduct day                                                               \nBANANAS -2    10000.0   4977.97640  12.163889  4942.5   4969.5   4980.0   \n        -1    10000.0   4922.15040  16.393819  4886.5   4911.0   4919.5   \n         0    10000.0   4889.50765   7.622357  4869.5   4884.0   4890.0   \nPEARLS  -2    10000.0  10000.00350   1.513842  9996.5  10000.0  10000.0   \n        -1    10000.0   9999.98640   1.479606  9996.5  10000.0  10000.0   \n         0    10000.0   9999.99975   1.496228  9996.5  10000.0  10000.0   \n\n                               \n                 75%      max  \nproduct day                    \nBANANAS -2    4987.0   5006.5  \n        -1    4934.5   4957.0  \n         0    4894.5   4911.0  \nPEARLS  -2   10000.0  10003.5  \n        -1   10000.0  10003.5  \n         0   10000.0  10003.5  ",
      "text/html": "<div>\n<style scoped>\n    .dataframe tbody tr th:only-of-type {\n        vertical-align: middle;\n    }\n\n    .dataframe tbody tr th {\n        vertical-align: top;\n    }\n\n    .dataframe thead tr th {\n        text-align: left;\n    }\n\n    .dataframe thead tr:last-of-type th {\n        text-align: right;\n    }\n</style>\n<table border=\"1\" class=\"dataframe\">\n  <thead>\n    <tr>\n      <th></th>\n      <th></th>\n      <th colspan=\"8\" halign=\"left\">mid_price</th>\n    </tr>\n    <tr>\n      <th></th>\n      <th></th>\n      <th>count</th>\n      <th>mean</th>\n      <th>std</th>\n      <th>min</th>\n      <th>25%</th>\n      <th>50%</th>\n      <th>75%</th>\n      <th>max</th>\n    </tr>\n    <tr>\n      <th>product</th>\n      <th>day</th>\n      <th></th>\n      <th></th>\n      <th></th>\n      <th></th>\n      <th></th>\n      <th></th>\n      <th></th>\n      <th></th>\n    </tr>\n  </thead>\n  <tbody>\n    <tr>\n      <th rowspan=\"3\" valign=\"top\">BANANAS</th>\n      <th>-2</th>\n      <td>10000.0</td>\n      <td>4977.97640</td>\n      <td>12.163889</td>\n      <td>4942.5</td>\n      <td>4969.5</td>\n      <td>4980.0</td>\n      <td>4987.0</td>\n      <td>5006.5</td>\n    </tr>\n    <tr>\n      <th>-1</th>\n      <td>10000.0</td>\n      <td>4922.15040</td>\n      <td>16.393819</td>\n      <td>4886.5</td>\n      <td>4911.0</td>\n      <td>4919.5</td>\n      <td>4934.5</td>\n      <td>4957.0</td>\n    </tr>\n    <tr>\n      <th>0</th>\n      <td>10000.0</td>\n      <td>4889.50765</td>\n      <td>7.622357</td>\n      <td>4869.5</td>\n      <td>4884.0</td>\n      <td>4890.0</td>\n      <td>4894.5</td>\n      <td>4911.0</td>\n    </tr>\n    <tr>\n      <th rowspan=\"3\" valign=\"top\">PEARLS</th>\n      <th>-2</th>\n      <td>10000.0</td>\n      <td>10000.00350</td>\n      <td>1.513842</td>\n      <td>9996.5</td>\n      <td>10000.0</td>\n      <td>10000.0</td>\n      <td>10000.0</td>\n      <td>10003.5</td>\n    </tr>\n    <tr>\n      <th>-1</th>\n      <td>10000.0</td>\n      <td>9999.98640</td>\n      <td>1.479606</td>\n      <td>9996.5</td>\n      <td>10000.0</td>\n      <td>10000.0</td>\n      <td>10000.0</td>\n      <td>10003.5</td>\n    </tr>\n    <tr>\n      <th>0</th>\n      <td>10000.0</td>\n      <td>9999.99975</td>\n      <td>1.496228</td>\n      <td>9996.5</td>\n      <td>10000.0</td>\n      <td>10000.0</td>\n      <td>10000.0</td>\n      <td>10003.5</td>\n    </tr>\n  </tbody>\n</table>\n</div>"
     },
     "execution_count": 17,
     "metadata": {},
     "output_type": "execute_result"
    }
   ],
   "source": [
    "prices_agg_df.describe()"
   ],
   "metadata": {
    "collapsed": false
   }
  },
  {
   "cell_type": "code",
   "execution_count": 18,
   "outputs": [
    {
     "name": "stdout",
     "output_type": "stream",
     "text": [
      "<class 'pandas.core.frame.DataFrame'>\n",
      "MultiIndex: 15786 entries, (-2, 0, 'BANANAS') to (0, 999500, 'PEARLS')\n",
      "Data columns (total 2 columns):\n",
      " #   Column    Non-Null Count  Dtype  \n",
      "---  ------    --------------  -----  \n",
      " 0   price     15786 non-null  float64\n",
      " 1   quantity  15786 non-null  int64  \n",
      "dtypes: float64(1), int64(1)\n",
      "memory usage: 624.1+ KB\n"
     ]
    }
   ],
   "source": [
    "trades_df.info()"
   ],
   "metadata": {
    "collapsed": false
   }
  },
  {
   "cell_type": "code",
   "execution_count": 19,
   "outputs": [
    {
     "data": {
      "text/plain": "                         price  quantity\nday timestamp symbol                    \n-1  642700    PEARLS    9998.0         1\n    76400     BANANAS   4942.0         8\n 0  747700    BANANAS   4883.0         1\n    866700    BANANAS   4881.0        17\n    276000    BANANAS   4891.0         4\n-2  266500    BANANAS   4995.0         1\n-1  92700     BANANAS   4933.0         1\n    419500    BANANAS   4922.0         2\n 0  289900    PEARLS   10005.0         2\n    84500     BANANAS   4891.0         1",
      "text/html": "<div>\n<style scoped>\n    .dataframe tbody tr th:only-of-type {\n        vertical-align: middle;\n    }\n\n    .dataframe tbody tr th {\n        vertical-align: top;\n    }\n\n    .dataframe thead th {\n        text-align: right;\n    }\n</style>\n<table border=\"1\" class=\"dataframe\">\n  <thead>\n    <tr style=\"text-align: right;\">\n      <th></th>\n      <th></th>\n      <th></th>\n      <th>price</th>\n      <th>quantity</th>\n    </tr>\n    <tr>\n      <th>day</th>\n      <th>timestamp</th>\n      <th>symbol</th>\n      <th></th>\n      <th></th>\n    </tr>\n  </thead>\n  <tbody>\n    <tr>\n      <th rowspan=\"2\" valign=\"top\">-1</th>\n      <th>642700</th>\n      <th>PEARLS</th>\n      <td>9998.0</td>\n      <td>1</td>\n    </tr>\n    <tr>\n      <th>76400</th>\n      <th>BANANAS</th>\n      <td>4942.0</td>\n      <td>8</td>\n    </tr>\n    <tr>\n      <th rowspan=\"3\" valign=\"top\">0</th>\n      <th>747700</th>\n      <th>BANANAS</th>\n      <td>4883.0</td>\n      <td>1</td>\n    </tr>\n    <tr>\n      <th>866700</th>\n      <th>BANANAS</th>\n      <td>4881.0</td>\n      <td>17</td>\n    </tr>\n    <tr>\n      <th>276000</th>\n      <th>BANANAS</th>\n      <td>4891.0</td>\n      <td>4</td>\n    </tr>\n    <tr>\n      <th>-2</th>\n      <th>266500</th>\n      <th>BANANAS</th>\n      <td>4995.0</td>\n      <td>1</td>\n    </tr>\n    <tr>\n      <th rowspan=\"2\" valign=\"top\">-1</th>\n      <th>92700</th>\n      <th>BANANAS</th>\n      <td>4933.0</td>\n      <td>1</td>\n    </tr>\n    <tr>\n      <th>419500</th>\n      <th>BANANAS</th>\n      <td>4922.0</td>\n      <td>2</td>\n    </tr>\n    <tr>\n      <th rowspan=\"2\" valign=\"top\">0</th>\n      <th>289900</th>\n      <th>PEARLS</th>\n      <td>10005.0</td>\n      <td>2</td>\n    </tr>\n    <tr>\n      <th>84500</th>\n      <th>BANANAS</th>\n      <td>4891.0</td>\n      <td>1</td>\n    </tr>\n  </tbody>\n</table>\n</div>"
     },
     "execution_count": 19,
     "metadata": {},
     "output_type": "execute_result"
    }
   ],
   "source": [
    "trades_df.sample(10)"
   ],
   "metadata": {
    "collapsed": false
   }
  },
  {
   "cell_type": "code",
   "execution_count": 20,
   "outputs": [],
   "source": [
    "trades_agg_df = trades_df.groupby([\"symbol\", \"day\"])"
   ],
   "metadata": {
    "collapsed": false
   }
  },
  {
   "cell_type": "code",
   "execution_count": 21,
   "outputs": [
    {
     "data": {
      "text/plain": "              price                                                    \\\n              count          mean        std     min     25%      50%   \nsymbol  day                                                             \nBANANAS -2   2896.0   4975.893992  93.280105     0.0  4969.0   4979.0   \n        -1   2892.0   4921.540456  16.646177  4886.0  4910.0   4919.0   \n         0   2763.0   4889.246833   7.967840  4869.0  4883.0   4889.0   \nPEARLS  -2   2444.0  10000.038462   3.139960  9995.0  9998.0  10000.0   \n        -1   2387.0   9999.897361   3.183008  9995.0  9998.0   9998.0   \n         0   2404.0   9999.967970   3.132165  9995.0  9998.0   9998.0   \n\n                              quantity                                     \\\n                 75%      max    count      mean       std  min  25%  50%   \nsymbol  day                                                                 \nBANANAS -2    4987.0   5006.0   2896.0  2.718232  3.572302  0.0  1.0  1.0   \n        -1    4934.0   4958.0   2892.0  2.800830  3.702593  0.0  1.0  1.0   \n         0    4895.0   4911.0   2763.0  2.740861  3.609488  0.0  1.0  1.0   \nPEARLS  -2   10002.0  10005.0   2444.0  2.118658  1.985167  0.0  1.0  1.0   \n        -1   10002.0  10005.0   2387.0  2.154587  2.094174  0.0  1.0  1.0   \n         0   10002.0  10005.0   2404.0  2.040765  1.925582  0.0  1.0  1.0   \n\n                        \n             75%   max  \nsymbol  day             \nBANANAS -2   2.0  20.0  \n        -1   2.0  20.0  \n         0   2.0  20.0  \nPEARLS  -2   2.0  12.0  \n        -1   2.0  12.0  \n         0   2.0  12.0  ",
      "text/html": "<div>\n<style scoped>\n    .dataframe tbody tr th:only-of-type {\n        vertical-align: middle;\n    }\n\n    .dataframe tbody tr th {\n        vertical-align: top;\n    }\n\n    .dataframe thead tr th {\n        text-align: left;\n    }\n\n    .dataframe thead tr:last-of-type th {\n        text-align: right;\n    }\n</style>\n<table border=\"1\" class=\"dataframe\">\n  <thead>\n    <tr>\n      <th></th>\n      <th></th>\n      <th colspan=\"8\" halign=\"left\">price</th>\n      <th colspan=\"8\" halign=\"left\">quantity</th>\n    </tr>\n    <tr>\n      <th></th>\n      <th></th>\n      <th>count</th>\n      <th>mean</th>\n      <th>std</th>\n      <th>min</th>\n      <th>25%</th>\n      <th>50%</th>\n      <th>75%</th>\n      <th>max</th>\n      <th>count</th>\n      <th>mean</th>\n      <th>std</th>\n      <th>min</th>\n      <th>25%</th>\n      <th>50%</th>\n      <th>75%</th>\n      <th>max</th>\n    </tr>\n    <tr>\n      <th>symbol</th>\n      <th>day</th>\n      <th></th>\n      <th></th>\n      <th></th>\n      <th></th>\n      <th></th>\n      <th></th>\n      <th></th>\n      <th></th>\n      <th></th>\n      <th></th>\n      <th></th>\n      <th></th>\n      <th></th>\n      <th></th>\n      <th></th>\n      <th></th>\n    </tr>\n  </thead>\n  <tbody>\n    <tr>\n      <th rowspan=\"3\" valign=\"top\">BANANAS</th>\n      <th>-2</th>\n      <td>2896.0</td>\n      <td>4975.893992</td>\n      <td>93.280105</td>\n      <td>0.0</td>\n      <td>4969.0</td>\n      <td>4979.0</td>\n      <td>4987.0</td>\n      <td>5006.0</td>\n      <td>2896.0</td>\n      <td>2.718232</td>\n      <td>3.572302</td>\n      <td>0.0</td>\n      <td>1.0</td>\n      <td>1.0</td>\n      <td>2.0</td>\n      <td>20.0</td>\n    </tr>\n    <tr>\n      <th>-1</th>\n      <td>2892.0</td>\n      <td>4921.540456</td>\n      <td>16.646177</td>\n      <td>4886.0</td>\n      <td>4910.0</td>\n      <td>4919.0</td>\n      <td>4934.0</td>\n      <td>4958.0</td>\n      <td>2892.0</td>\n      <td>2.800830</td>\n      <td>3.702593</td>\n      <td>0.0</td>\n      <td>1.0</td>\n      <td>1.0</td>\n      <td>2.0</td>\n      <td>20.0</td>\n    </tr>\n    <tr>\n      <th>0</th>\n      <td>2763.0</td>\n      <td>4889.246833</td>\n      <td>7.967840</td>\n      <td>4869.0</td>\n      <td>4883.0</td>\n      <td>4889.0</td>\n      <td>4895.0</td>\n      <td>4911.0</td>\n      <td>2763.0</td>\n      <td>2.740861</td>\n      <td>3.609488</td>\n      <td>0.0</td>\n      <td>1.0</td>\n      <td>1.0</td>\n      <td>2.0</td>\n      <td>20.0</td>\n    </tr>\n    <tr>\n      <th rowspan=\"3\" valign=\"top\">PEARLS</th>\n      <th>-2</th>\n      <td>2444.0</td>\n      <td>10000.038462</td>\n      <td>3.139960</td>\n      <td>9995.0</td>\n      <td>9998.0</td>\n      <td>10000.0</td>\n      <td>10002.0</td>\n      <td>10005.0</td>\n      <td>2444.0</td>\n      <td>2.118658</td>\n      <td>1.985167</td>\n      <td>0.0</td>\n      <td>1.0</td>\n      <td>1.0</td>\n      <td>2.0</td>\n      <td>12.0</td>\n    </tr>\n    <tr>\n      <th>-1</th>\n      <td>2387.0</td>\n      <td>9999.897361</td>\n      <td>3.183008</td>\n      <td>9995.0</td>\n      <td>9998.0</td>\n      <td>9998.0</td>\n      <td>10002.0</td>\n      <td>10005.0</td>\n      <td>2387.0</td>\n      <td>2.154587</td>\n      <td>2.094174</td>\n      <td>0.0</td>\n      <td>1.0</td>\n      <td>1.0</td>\n      <td>2.0</td>\n      <td>12.0</td>\n    </tr>\n    <tr>\n      <th>0</th>\n      <td>2404.0</td>\n      <td>9999.967970</td>\n      <td>3.132165</td>\n      <td>9995.0</td>\n      <td>9998.0</td>\n      <td>9998.0</td>\n      <td>10002.0</td>\n      <td>10005.0</td>\n      <td>2404.0</td>\n      <td>2.040765</td>\n      <td>1.925582</td>\n      <td>0.0</td>\n      <td>1.0</td>\n      <td>1.0</td>\n      <td>2.0</td>\n      <td>12.0</td>\n    </tr>\n  </tbody>\n</table>\n</div>"
     },
     "execution_count": 21,
     "metadata": {},
     "output_type": "execute_result"
    }
   ],
   "source": [
    "trades_agg_df.describe()"
   ],
   "metadata": {
    "collapsed": false
   }
  },
  {
   "cell_type": "code",
   "execution_count": 22,
   "outputs": [
    {
     "data": {
      "text/plain": "            mid_price                                                    \\\n                count         mean        std     min      25%      50%   \nproduct day                                                               \nBANANAS -2    10000.0   4977.97640  12.163889  4942.5   4969.5   4980.0   \n        -1    10000.0   4922.15040  16.393819  4886.5   4911.0   4919.5   \n         0    10000.0   4889.50765   7.622357  4869.5   4884.0   4890.0   \nPEARLS  -2    10000.0  10000.00350   1.513842  9996.5  10000.0  10000.0   \n        -1    10000.0   9999.98640   1.479606  9996.5  10000.0  10000.0   \n         0    10000.0   9999.99975   1.496228  9996.5  10000.0  10000.0   \n\n                               \n                 75%      max  \nproduct day                    \nBANANAS -2    4987.0   5006.5  \n        -1    4934.5   4957.0  \n         0    4894.5   4911.0  \nPEARLS  -2   10000.0  10003.5  \n        -1   10000.0  10003.5  \n         0   10000.0  10003.5  ",
      "text/html": "<div>\n<style scoped>\n    .dataframe tbody tr th:only-of-type {\n        vertical-align: middle;\n    }\n\n    .dataframe tbody tr th {\n        vertical-align: top;\n    }\n\n    .dataframe thead tr th {\n        text-align: left;\n    }\n\n    .dataframe thead tr:last-of-type th {\n        text-align: right;\n    }\n</style>\n<table border=\"1\" class=\"dataframe\">\n  <thead>\n    <tr>\n      <th></th>\n      <th></th>\n      <th colspan=\"8\" halign=\"left\">mid_price</th>\n    </tr>\n    <tr>\n      <th></th>\n      <th></th>\n      <th>count</th>\n      <th>mean</th>\n      <th>std</th>\n      <th>min</th>\n      <th>25%</th>\n      <th>50%</th>\n      <th>75%</th>\n      <th>max</th>\n    </tr>\n    <tr>\n      <th>product</th>\n      <th>day</th>\n      <th></th>\n      <th></th>\n      <th></th>\n      <th></th>\n      <th></th>\n      <th></th>\n      <th></th>\n      <th></th>\n    </tr>\n  </thead>\n  <tbody>\n    <tr>\n      <th rowspan=\"3\" valign=\"top\">BANANAS</th>\n      <th>-2</th>\n      <td>10000.0</td>\n      <td>4977.97640</td>\n      <td>12.163889</td>\n      <td>4942.5</td>\n      <td>4969.5</td>\n      <td>4980.0</td>\n      <td>4987.0</td>\n      <td>5006.5</td>\n    </tr>\n    <tr>\n      <th>-1</th>\n      <td>10000.0</td>\n      <td>4922.15040</td>\n      <td>16.393819</td>\n      <td>4886.5</td>\n      <td>4911.0</td>\n      <td>4919.5</td>\n      <td>4934.5</td>\n      <td>4957.0</td>\n    </tr>\n    <tr>\n      <th>0</th>\n      <td>10000.0</td>\n      <td>4889.50765</td>\n      <td>7.622357</td>\n      <td>4869.5</td>\n      <td>4884.0</td>\n      <td>4890.0</td>\n      <td>4894.5</td>\n      <td>4911.0</td>\n    </tr>\n    <tr>\n      <th rowspan=\"3\" valign=\"top\">PEARLS</th>\n      <th>-2</th>\n      <td>10000.0</td>\n      <td>10000.00350</td>\n      <td>1.513842</td>\n      <td>9996.5</td>\n      <td>10000.0</td>\n      <td>10000.0</td>\n      <td>10000.0</td>\n      <td>10003.5</td>\n    </tr>\n    <tr>\n      <th>-1</th>\n      <td>10000.0</td>\n      <td>9999.98640</td>\n      <td>1.479606</td>\n      <td>9996.5</td>\n      <td>10000.0</td>\n      <td>10000.0</td>\n      <td>10000.0</td>\n      <td>10003.5</td>\n    </tr>\n    <tr>\n      <th>0</th>\n      <td>10000.0</td>\n      <td>9999.99975</td>\n      <td>1.496228</td>\n      <td>9996.5</td>\n      <td>10000.0</td>\n      <td>10000.0</td>\n      <td>10000.0</td>\n      <td>10003.5</td>\n    </tr>\n  </tbody>\n</table>\n</div>"
     },
     "execution_count": 22,
     "metadata": {},
     "output_type": "execute_result"
    }
   ],
   "source": [
    "prices_agg_df.describe()"
   ],
   "metadata": {
    "collapsed": false
   }
  },
  {
   "cell_type": "code",
   "execution_count": 23,
   "outputs": [
    {
     "data": {
      "text/plain": "                 price  quantity\nday timestamp                   \n-2  0           9996.0         1\n    0           9996.0         1\n    1500       10004.0         1\n    2500        9998.0         1\n    3200        9996.0         1\n...                ...       ...\n 0  997600     10002.0         4\n    997700     10002.0         1\n    998400     10002.0         4\n    998800     10002.0         1\n    999500      9995.0         2\n\n[7235 rows x 2 columns]",
      "text/html": "<div>\n<style scoped>\n    .dataframe tbody tr th:only-of-type {\n        vertical-align: middle;\n    }\n\n    .dataframe tbody tr th {\n        vertical-align: top;\n    }\n\n    .dataframe thead th {\n        text-align: right;\n    }\n</style>\n<table border=\"1\" class=\"dataframe\">\n  <thead>\n    <tr style=\"text-align: right;\">\n      <th></th>\n      <th></th>\n      <th>price</th>\n      <th>quantity</th>\n    </tr>\n    <tr>\n      <th>day</th>\n      <th>timestamp</th>\n      <th></th>\n      <th></th>\n    </tr>\n  </thead>\n  <tbody>\n    <tr>\n      <th rowspan=\"5\" valign=\"top\">-2</th>\n      <th>0</th>\n      <td>9996.0</td>\n      <td>1</td>\n    </tr>\n    <tr>\n      <th>0</th>\n      <td>9996.0</td>\n      <td>1</td>\n    </tr>\n    <tr>\n      <th>1500</th>\n      <td>10004.0</td>\n      <td>1</td>\n    </tr>\n    <tr>\n      <th>2500</th>\n      <td>9998.0</td>\n      <td>1</td>\n    </tr>\n    <tr>\n      <th>3200</th>\n      <td>9996.0</td>\n      <td>1</td>\n    </tr>\n    <tr>\n      <th>...</th>\n      <th>...</th>\n      <td>...</td>\n      <td>...</td>\n    </tr>\n    <tr>\n      <th rowspan=\"5\" valign=\"top\">0</th>\n      <th>997600</th>\n      <td>10002.0</td>\n      <td>4</td>\n    </tr>\n    <tr>\n      <th>997700</th>\n      <td>10002.0</td>\n      <td>1</td>\n    </tr>\n    <tr>\n      <th>998400</th>\n      <td>10002.0</td>\n      <td>4</td>\n    </tr>\n    <tr>\n      <th>998800</th>\n      <td>10002.0</td>\n      <td>1</td>\n    </tr>\n    <tr>\n      <th>999500</th>\n      <td>9995.0</td>\n      <td>2</td>\n    </tr>\n  </tbody>\n</table>\n<p>7235 rows × 2 columns</p>\n</div>"
     },
     "execution_count": 23,
     "metadata": {},
     "output_type": "execute_result"
    }
   ],
   "source": [
    "pearls_trades_df = trades_df.xs(key=\"PEARLS\", axis=0, level=\"symbol\")\n",
    "pearls_trades_df\n"
   ],
   "metadata": {
    "collapsed": false
   }
  },
  {
   "cell_type": "code",
   "execution_count": 36,
   "outputs": [],
   "source": [
    "cont_prices_df = prices_df.reset_index()\n",
    "banana_prices_df = cont_prices_df[cont_prices_df[\"product\"] == \"BANANAS\"]\n",
    "pearl_prices_df = cont_prices_df[cont_prices_df[\"product\"] == \"PEARLS\"]"
   ],
   "metadata": {
    "collapsed": false
   }
  },
  {
   "cell_type": "code",
   "execution_count": 39,
   "outputs": [
    {
     "data": {
      "text/plain": "   day  timestamp  product  bid_price_1  bid_volume_1  bid_price_2  \\\n0   -2          0  BANANAS         4997            26          NaN   \n2   -2        100  BANANAS         4997            20          NaN   \n5   -2        200  BANANAS         4997            31          NaN   \n7   -2        300  BANANAS         4997            27          NaN   \n9   -2        400  BANANAS         4997            20          NaN   \n\n   bid_volume_2  bid_price_3  bid_volume_3  ask_price_1  ask_volume_1  \\\n0           NaN          NaN           NaN         5003            26   \n2           NaN          NaN           NaN         4998             1   \n5           NaN          NaN           NaN         5004            31   \n7           NaN          NaN           NaN         5004            27   \n9           NaN          NaN           NaN         5002             9   \n\n   ask_price_2  ask_volume_2  ask_price_3  ask_volume_3  mid_price  \n0          NaN           NaN          NaN           NaN     5000.0  \n2       5004.0          20.0          NaN           NaN     4997.5  \n5          NaN           NaN          NaN           NaN     5000.5  \n7          NaN           NaN          NaN           NaN     5000.5  \n9       5004.0          20.0          NaN           NaN     4999.5  ",
      "text/html": "<div>\n<style scoped>\n    .dataframe tbody tr th:only-of-type {\n        vertical-align: middle;\n    }\n\n    .dataframe tbody tr th {\n        vertical-align: top;\n    }\n\n    .dataframe thead th {\n        text-align: right;\n    }\n</style>\n<table border=\"1\" class=\"dataframe\">\n  <thead>\n    <tr style=\"text-align: right;\">\n      <th></th>\n      <th>day</th>\n      <th>timestamp</th>\n      <th>product</th>\n      <th>bid_price_1</th>\n      <th>bid_volume_1</th>\n      <th>bid_price_2</th>\n      <th>bid_volume_2</th>\n      <th>bid_price_3</th>\n      <th>bid_volume_3</th>\n      <th>ask_price_1</th>\n      <th>ask_volume_1</th>\n      <th>ask_price_2</th>\n      <th>ask_volume_2</th>\n      <th>ask_price_3</th>\n      <th>ask_volume_3</th>\n      <th>mid_price</th>\n    </tr>\n  </thead>\n  <tbody>\n    <tr>\n      <th>0</th>\n      <td>-2</td>\n      <td>0</td>\n      <td>BANANAS</td>\n      <td>4997</td>\n      <td>26</td>\n      <td>NaN</td>\n      <td>NaN</td>\n      <td>NaN</td>\n      <td>NaN</td>\n      <td>5003</td>\n      <td>26</td>\n      <td>NaN</td>\n      <td>NaN</td>\n      <td>NaN</td>\n      <td>NaN</td>\n      <td>5000.0</td>\n    </tr>\n    <tr>\n      <th>2</th>\n      <td>-2</td>\n      <td>100</td>\n      <td>BANANAS</td>\n      <td>4997</td>\n      <td>20</td>\n      <td>NaN</td>\n      <td>NaN</td>\n      <td>NaN</td>\n      <td>NaN</td>\n      <td>4998</td>\n      <td>1</td>\n      <td>5004.0</td>\n      <td>20.0</td>\n      <td>NaN</td>\n      <td>NaN</td>\n      <td>4997.5</td>\n    </tr>\n    <tr>\n      <th>5</th>\n      <td>-2</td>\n      <td>200</td>\n      <td>BANANAS</td>\n      <td>4997</td>\n      <td>31</td>\n      <td>NaN</td>\n      <td>NaN</td>\n      <td>NaN</td>\n      <td>NaN</td>\n      <td>5004</td>\n      <td>31</td>\n      <td>NaN</td>\n      <td>NaN</td>\n      <td>NaN</td>\n      <td>NaN</td>\n      <td>5000.5</td>\n    </tr>\n    <tr>\n      <th>7</th>\n      <td>-2</td>\n      <td>300</td>\n      <td>BANANAS</td>\n      <td>4997</td>\n      <td>27</td>\n      <td>NaN</td>\n      <td>NaN</td>\n      <td>NaN</td>\n      <td>NaN</td>\n      <td>5004</td>\n      <td>27</td>\n      <td>NaN</td>\n      <td>NaN</td>\n      <td>NaN</td>\n      <td>NaN</td>\n      <td>5000.5</td>\n    </tr>\n    <tr>\n      <th>9</th>\n      <td>-2</td>\n      <td>400</td>\n      <td>BANANAS</td>\n      <td>4997</td>\n      <td>20</td>\n      <td>NaN</td>\n      <td>NaN</td>\n      <td>NaN</td>\n      <td>NaN</td>\n      <td>5002</td>\n      <td>9</td>\n      <td>5004.0</td>\n      <td>20.0</td>\n      <td>NaN</td>\n      <td>NaN</td>\n      <td>4999.5</td>\n    </tr>\n  </tbody>\n</table>\n</div>"
     },
     "execution_count": 39,
     "metadata": {},
     "output_type": "execute_result"
    }
   ],
   "source": [
    "banana_prices_df.head()"
   ],
   "metadata": {
    "collapsed": false
   }
  },
  {
   "cell_type": "code",
   "execution_count": 40,
   "outputs": [
    {
     "data": {
      "text/plain": "   day  timestamp product  bid_price_1  bid_volume_1  bid_price_2  \\\n1   -2          0  PEARLS         9996             1       9995.0   \n3   -2        100  PEARLS        10000             5       9995.0   \n4   -2        200  PEARLS         9996             1       9995.0   \n6   -2        300  PEARLS         9996             1       9995.0   \n8   -2        400  PEARLS         9995            20          NaN   \n\n   bid_volume_2  bid_price_3  bid_volume_3  ask_price_1  ask_volume_1  \\\n1          25.0          NaN           NaN        10004             1   \n3          20.0          NaN           NaN        10005            20   \n4          30.0          NaN           NaN        10004             1   \n6          26.0          NaN           NaN        10004             1   \n8           NaN          NaN           NaN         9998             3   \n\n   ask_price_2  ask_volume_2  ask_price_3  ask_volume_3  mid_price  \n1      10005.0          25.0          NaN           NaN    10000.0  \n3          NaN           NaN          NaN           NaN    10002.5  \n4      10005.0          30.0          NaN           NaN    10000.0  \n6      10005.0          26.0          NaN           NaN    10000.0  \n8      10002.0           9.0      10005.0          20.0     9996.5  ",
      "text/html": "<div>\n<style scoped>\n    .dataframe tbody tr th:only-of-type {\n        vertical-align: middle;\n    }\n\n    .dataframe tbody tr th {\n        vertical-align: top;\n    }\n\n    .dataframe thead th {\n        text-align: right;\n    }\n</style>\n<table border=\"1\" class=\"dataframe\">\n  <thead>\n    <tr style=\"text-align: right;\">\n      <th></th>\n      <th>day</th>\n      <th>timestamp</th>\n      <th>product</th>\n      <th>bid_price_1</th>\n      <th>bid_volume_1</th>\n      <th>bid_price_2</th>\n      <th>bid_volume_2</th>\n      <th>bid_price_3</th>\n      <th>bid_volume_3</th>\n      <th>ask_price_1</th>\n      <th>ask_volume_1</th>\n      <th>ask_price_2</th>\n      <th>ask_volume_2</th>\n      <th>ask_price_3</th>\n      <th>ask_volume_3</th>\n      <th>mid_price</th>\n    </tr>\n  </thead>\n  <tbody>\n    <tr>\n      <th>1</th>\n      <td>-2</td>\n      <td>0</td>\n      <td>PEARLS</td>\n      <td>9996</td>\n      <td>1</td>\n      <td>9995.0</td>\n      <td>25.0</td>\n      <td>NaN</td>\n      <td>NaN</td>\n      <td>10004</td>\n      <td>1</td>\n      <td>10005.0</td>\n      <td>25.0</td>\n      <td>NaN</td>\n      <td>NaN</td>\n      <td>10000.0</td>\n    </tr>\n    <tr>\n      <th>3</th>\n      <td>-2</td>\n      <td>100</td>\n      <td>PEARLS</td>\n      <td>10000</td>\n      <td>5</td>\n      <td>9995.0</td>\n      <td>20.0</td>\n      <td>NaN</td>\n      <td>NaN</td>\n      <td>10005</td>\n      <td>20</td>\n      <td>NaN</td>\n      <td>NaN</td>\n      <td>NaN</td>\n      <td>NaN</td>\n      <td>10002.5</td>\n    </tr>\n    <tr>\n      <th>4</th>\n      <td>-2</td>\n      <td>200</td>\n      <td>PEARLS</td>\n      <td>9996</td>\n      <td>1</td>\n      <td>9995.0</td>\n      <td>30.0</td>\n      <td>NaN</td>\n      <td>NaN</td>\n      <td>10004</td>\n      <td>1</td>\n      <td>10005.0</td>\n      <td>30.0</td>\n      <td>NaN</td>\n      <td>NaN</td>\n      <td>10000.0</td>\n    </tr>\n    <tr>\n      <th>6</th>\n      <td>-2</td>\n      <td>300</td>\n      <td>PEARLS</td>\n      <td>9996</td>\n      <td>1</td>\n      <td>9995.0</td>\n      <td>26.0</td>\n      <td>NaN</td>\n      <td>NaN</td>\n      <td>10004</td>\n      <td>1</td>\n      <td>10005.0</td>\n      <td>26.0</td>\n      <td>NaN</td>\n      <td>NaN</td>\n      <td>10000.0</td>\n    </tr>\n    <tr>\n      <th>8</th>\n      <td>-2</td>\n      <td>400</td>\n      <td>PEARLS</td>\n      <td>9995</td>\n      <td>20</td>\n      <td>NaN</td>\n      <td>NaN</td>\n      <td>NaN</td>\n      <td>NaN</td>\n      <td>9998</td>\n      <td>3</td>\n      <td>10002.0</td>\n      <td>9.0</td>\n      <td>10005.0</td>\n      <td>20.0</td>\n      <td>9996.5</td>\n    </tr>\n  </tbody>\n</table>\n</div>"
     },
     "execution_count": 40,
     "metadata": {},
     "output_type": "execute_result"
    }
   ],
   "source": [
    "pearl_prices_df.head()"
   ],
   "metadata": {
    "collapsed": false
   }
  },
  {
   "cell_type": "markdown",
   "source": [],
   "metadata": {
    "collapsed": false
   }
  },
  {
   "cell_type": "code",
   "execution_count": 47,
   "outputs": [
    {
     "name": "stderr",
     "output_type": "stream",
     "text": [
      "/var/folders/j4/5rkww2t94332tqwmg7r7y2k40000gn/T/ipykernel_23665/2117430832.py:1: SettingWithCopyWarning: \n",
      "A value is trying to be set on a copy of a slice from a DataFrame.\n",
      "Try using .loc[row_indexer,col_indexer] = value instead\n",
      "\n",
      "See the caveats in the documentation: https://pandas.pydata.org/pandas-docs/stable/user_guide/indexing.html#returning-a-view-versus-a-copy\n",
      "  banana_prices_df[\"avg_price\"] = banana_prices_df.apply(lambda row: (row.ask_price_1 + row.bid_price_1) / 2, axis=1)\n"
     ]
    },
    {
     "data": {
      "text/plain": "       day  timestamp  product  bid_price_1  bid_volume_1  bid_price_2  \\\n52135    0     606700  BANANAS         4894            27          NaN   \n47218    0     360900  BANANAS         4888             6       4885.0   \n3262    -2     163100  BANANAS         4973            23          NaN   \n17451   -2     872500  BANANAS         4967            23          NaN   \n30438   -1     521900  BANANAS         4916             2       4915.0   \n...    ...        ...      ...          ...           ...          ...   \n43593    0     179600  BANANAS         4902             1       4897.0   \n22368   -1     118400  BANANAS         4925            30          NaN   \n35158   -1     757900  BANANAS         4904             2       4903.0   \n1871    -2      93500  BANANAS         4975            28          NaN   \n23591   -1     179500  BANANAS         4926            29          NaN   \n\n       bid_volume_2  bid_price_3  bid_volume_3  ask_price_1  ask_volume_1  \\\n52135           NaN          NaN           NaN         4899             7   \n47218          31.0          NaN           NaN         4891             1   \n3262            NaN          NaN           NaN         4978             6   \n17451           NaN          NaN           NaN         4974            23   \n30438          21.0          NaN           NaN         4922            23   \n...             ...          ...           ...          ...           ...   \n43593           2.0       4896.0          27.0         4903            29   \n22368           NaN          NaN           NaN         4931            30   \n35158          21.0          NaN           NaN         4910            23   \n1871            NaN          NaN           NaN         4982            28   \n23591           NaN          NaN           NaN         4933            29   \n\n       ask_price_2  ask_volume_2  ask_price_3  ask_volume_3  mid_price  \\\n52135       4901.0          27.0          NaN           NaN     4896.5   \n47218       4892.0          30.0          NaN           NaN     4889.5   \n3262        4980.0          23.0          NaN           NaN     4975.5   \n17451          NaN           NaN          NaN           NaN     4970.5   \n30438          NaN           NaN          NaN           NaN     4919.0   \n...            ...           ...          ...           ...        ...   \n43593          NaN           NaN          NaN           NaN     4902.5   \n22368          NaN           NaN          NaN           NaN     4928.0   \n35158          NaN           NaN          NaN           NaN     4907.0   \n1871           NaN           NaN          NaN           NaN     4978.5   \n23591          NaN           NaN          NaN           NaN     4929.5   \n\n       avg_price  \n52135     4896.5  \n47218     4889.5  \n3262      4975.5  \n17451     4970.5  \n30438     4919.0  \n...          ...  \n43593     4902.5  \n22368     4928.0  \n35158     4907.0  \n1871      4978.5  \n23591     4929.5  \n\n[100 rows x 17 columns]",
      "text/html": "<div>\n<style scoped>\n    .dataframe tbody tr th:only-of-type {\n        vertical-align: middle;\n    }\n\n    .dataframe tbody tr th {\n        vertical-align: top;\n    }\n\n    .dataframe thead th {\n        text-align: right;\n    }\n</style>\n<table border=\"1\" class=\"dataframe\">\n  <thead>\n    <tr style=\"text-align: right;\">\n      <th></th>\n      <th>day</th>\n      <th>timestamp</th>\n      <th>product</th>\n      <th>bid_price_1</th>\n      <th>bid_volume_1</th>\n      <th>bid_price_2</th>\n      <th>bid_volume_2</th>\n      <th>bid_price_3</th>\n      <th>bid_volume_3</th>\n      <th>ask_price_1</th>\n      <th>ask_volume_1</th>\n      <th>ask_price_2</th>\n      <th>ask_volume_2</th>\n      <th>ask_price_3</th>\n      <th>ask_volume_3</th>\n      <th>mid_price</th>\n      <th>avg_price</th>\n    </tr>\n  </thead>\n  <tbody>\n    <tr>\n      <th>52135</th>\n      <td>0</td>\n      <td>606700</td>\n      <td>BANANAS</td>\n      <td>4894</td>\n      <td>27</td>\n      <td>NaN</td>\n      <td>NaN</td>\n      <td>NaN</td>\n      <td>NaN</td>\n      <td>4899</td>\n      <td>7</td>\n      <td>4901.0</td>\n      <td>27.0</td>\n      <td>NaN</td>\n      <td>NaN</td>\n      <td>4896.5</td>\n      <td>4896.5</td>\n    </tr>\n    <tr>\n      <th>47218</th>\n      <td>0</td>\n      <td>360900</td>\n      <td>BANANAS</td>\n      <td>4888</td>\n      <td>6</td>\n      <td>4885.0</td>\n      <td>31.0</td>\n      <td>NaN</td>\n      <td>NaN</td>\n      <td>4891</td>\n      <td>1</td>\n      <td>4892.0</td>\n      <td>30.0</td>\n      <td>NaN</td>\n      <td>NaN</td>\n      <td>4889.5</td>\n      <td>4889.5</td>\n    </tr>\n    <tr>\n      <th>3262</th>\n      <td>-2</td>\n      <td>163100</td>\n      <td>BANANAS</td>\n      <td>4973</td>\n      <td>23</td>\n      <td>NaN</td>\n      <td>NaN</td>\n      <td>NaN</td>\n      <td>NaN</td>\n      <td>4978</td>\n      <td>6</td>\n      <td>4980.0</td>\n      <td>23.0</td>\n      <td>NaN</td>\n      <td>NaN</td>\n      <td>4975.5</td>\n      <td>4975.5</td>\n    </tr>\n    <tr>\n      <th>17451</th>\n      <td>-2</td>\n      <td>872500</td>\n      <td>BANANAS</td>\n      <td>4967</td>\n      <td>23</td>\n      <td>NaN</td>\n      <td>NaN</td>\n      <td>NaN</td>\n      <td>NaN</td>\n      <td>4974</td>\n      <td>23</td>\n      <td>NaN</td>\n      <td>NaN</td>\n      <td>NaN</td>\n      <td>NaN</td>\n      <td>4970.5</td>\n      <td>4970.5</td>\n    </tr>\n    <tr>\n      <th>30438</th>\n      <td>-1</td>\n      <td>521900</td>\n      <td>BANANAS</td>\n      <td>4916</td>\n      <td>2</td>\n      <td>4915.0</td>\n      <td>21.0</td>\n      <td>NaN</td>\n      <td>NaN</td>\n      <td>4922</td>\n      <td>23</td>\n      <td>NaN</td>\n      <td>NaN</td>\n      <td>NaN</td>\n      <td>NaN</td>\n      <td>4919.0</td>\n      <td>4919.0</td>\n    </tr>\n    <tr>\n      <th>...</th>\n      <td>...</td>\n      <td>...</td>\n      <td>...</td>\n      <td>...</td>\n      <td>...</td>\n      <td>...</td>\n      <td>...</td>\n      <td>...</td>\n      <td>...</td>\n      <td>...</td>\n      <td>...</td>\n      <td>...</td>\n      <td>...</td>\n      <td>...</td>\n      <td>...</td>\n      <td>...</td>\n      <td>...</td>\n    </tr>\n    <tr>\n      <th>43593</th>\n      <td>0</td>\n      <td>179600</td>\n      <td>BANANAS</td>\n      <td>4902</td>\n      <td>1</td>\n      <td>4897.0</td>\n      <td>2.0</td>\n      <td>4896.0</td>\n      <td>27.0</td>\n      <td>4903</td>\n      <td>29</td>\n      <td>NaN</td>\n      <td>NaN</td>\n      <td>NaN</td>\n      <td>NaN</td>\n      <td>4902.5</td>\n      <td>4902.5</td>\n    </tr>\n    <tr>\n      <th>22368</th>\n      <td>-1</td>\n      <td>118400</td>\n      <td>BANANAS</td>\n      <td>4925</td>\n      <td>30</td>\n      <td>NaN</td>\n      <td>NaN</td>\n      <td>NaN</td>\n      <td>NaN</td>\n      <td>4931</td>\n      <td>30</td>\n      <td>NaN</td>\n      <td>NaN</td>\n      <td>NaN</td>\n      <td>NaN</td>\n      <td>4928.0</td>\n      <td>4928.0</td>\n    </tr>\n    <tr>\n      <th>35158</th>\n      <td>-1</td>\n      <td>757900</td>\n      <td>BANANAS</td>\n      <td>4904</td>\n      <td>2</td>\n      <td>4903.0</td>\n      <td>21.0</td>\n      <td>NaN</td>\n      <td>NaN</td>\n      <td>4910</td>\n      <td>23</td>\n      <td>NaN</td>\n      <td>NaN</td>\n      <td>NaN</td>\n      <td>NaN</td>\n      <td>4907.0</td>\n      <td>4907.0</td>\n    </tr>\n    <tr>\n      <th>1871</th>\n      <td>-2</td>\n      <td>93500</td>\n      <td>BANANAS</td>\n      <td>4975</td>\n      <td>28</td>\n      <td>NaN</td>\n      <td>NaN</td>\n      <td>NaN</td>\n      <td>NaN</td>\n      <td>4982</td>\n      <td>28</td>\n      <td>NaN</td>\n      <td>NaN</td>\n      <td>NaN</td>\n      <td>NaN</td>\n      <td>4978.5</td>\n      <td>4978.5</td>\n    </tr>\n    <tr>\n      <th>23591</th>\n      <td>-1</td>\n      <td>179500</td>\n      <td>BANANAS</td>\n      <td>4926</td>\n      <td>29</td>\n      <td>NaN</td>\n      <td>NaN</td>\n      <td>NaN</td>\n      <td>NaN</td>\n      <td>4933</td>\n      <td>29</td>\n      <td>NaN</td>\n      <td>NaN</td>\n      <td>NaN</td>\n      <td>NaN</td>\n      <td>4929.5</td>\n      <td>4929.5</td>\n    </tr>\n  </tbody>\n</table>\n<p>100 rows × 17 columns</p>\n</div>"
     },
     "execution_count": 47,
     "metadata": {},
     "output_type": "execute_result"
    }
   ],
   "source": [
    "banana_prices_df[\"avg_price\"] = banana_prices_df.apply(lambda row: (row.ask_price_1 + row.bid_price_1) / 2, axis=1)\n",
    "banana_prices_df.sample(100)"
   ],
   "metadata": {
    "collapsed": false
   }
  },
  {
   "cell_type": "code",
   "execution_count": null,
   "outputs": [],
   "source": [],
   "metadata": {
    "collapsed": false
   }
  }
 ],
 "metadata": {
  "kernelspec": {
   "display_name": "Python 3",
   "language": "python",
   "name": "python3"
  },
  "language_info": {
   "codemirror_mode": {
    "name": "ipython",
    "version": 2
   },
   "file_extension": ".py",
   "mimetype": "text/x-python",
   "name": "python",
   "nbconvert_exporter": "python",
   "pygments_lexer": "ipython2",
   "version": "2.7.6"
  }
 },
 "nbformat": 4,
 "nbformat_minor": 0
}
